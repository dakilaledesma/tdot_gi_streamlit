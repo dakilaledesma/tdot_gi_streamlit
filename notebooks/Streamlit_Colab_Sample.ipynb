{
 "nbformat": 4,
 "nbformat_minor": 0,
 "metadata": {
  "colab": {
   "provenance": [],
   "include_colab_link": true
  },
  "kernelspec": {
   "name": "python3",
   "display_name": "Python 3"
  }
 },
 "cells": [
  {
   "cell_type": "markdown",
   "metadata": {
    "id": "view-in-github",
    "colab_type": "text",
    "pycharm": {
     "name": "#%% md\n"
    }
   },
   "source": [
    "<a href=\"https://colab.research.google.com/github/dakilaledesma/tdot_gi_streamlit/blob/main/notebooks/Streamlit_Colab_Sample.ipynb\" target=\"_parent\"><img src=\"https://colab.research.google.com/assets/colab-badge.svg\" alt=\"Open In Colab\"/></a>"
   ]
  },
  {
   "cell_type": "markdown",
   "source": [
    "# Install Dependencies and Clone Project\n",
    "  "
   ],
   "metadata": {
    "id": "03B9lELkUF0T",
    "pycharm": {
     "name": "#%% md\n"
    }
   }
  },
  {
   "cell_type": "code",
   "metadata": {
    "id": "RvlYkCQ9vFiy",
    "colab": {
     "base_uri": "https://localhost:8080/"
    },
    "outputId": "a58ec939-faa4-4fc5-f0d7-0fc7e329a0d8",
    "pycharm": {
     "name": "#%%\n"
    }
   },
   "source": [
    "! pip install -q streamlit"
   ],
   "execution_count": null,
   "outputs": [
    {
     "output_type": "stream",
     "name": "stdout",
     "text": [
      "\u001B[2K     \u001B[90m━━━━━━━━━━━━━━━━━━━━━━━━━━━━━━━━━━━━━━━━\u001B[0m \u001B[32m8.9/8.9 MB\u001B[0m \u001B[31m45.8 MB/s\u001B[0m eta \u001B[36m0:00:00\u001B[0m\n",
      "\u001B[2K     \u001B[90m━━━━━━━━━━━━━━━━━━━━━━━━━━━━━━━━━━━━━━\u001B[0m \u001B[32m164.8/164.8 kB\u001B[0m \u001B[31m12.4 MB/s\u001B[0m eta \u001B[36m0:00:00\u001B[0m\n",
      "\u001B[?25h  Preparing metadata (setup.py) ... \u001B[?25l\u001B[?25hdone\n",
      "\u001B[2K     \u001B[90m━━━━━━━━━━━━━━━━━━━━━━━━━━━━━━━━━━━━━━\u001B[0m \u001B[32m184.3/184.3 kB\u001B[0m \u001B[31m15.0 MB/s\u001B[0m eta \u001B[36m0:00:00\u001B[0m\n",
      "\u001B[2K     \u001B[90m━━━━━━━━━━━━━━━━━━━━━━━━━━━━━━━━━━━━━━━━\u001B[0m \u001B[32m4.8/4.8 MB\u001B[0m \u001B[31m58.8 MB/s\u001B[0m eta \u001B[36m0:00:00\u001B[0m\n",
      "\u001B[2K     \u001B[90m━━━━━━━━━━━━━━━━━━━━━━━━━━━━━━━━━━━━━━━━\u001B[0m \u001B[32m82.1/82.1 kB\u001B[0m \u001B[31m1.5 MB/s\u001B[0m eta \u001B[36m0:00:00\u001B[0m\n",
      "\u001B[2K     \u001B[90m━━━━━━━━━━━━━━━━━━━━━━━━━━━━━━━━━━━━━━━━\u001B[0m \u001B[32m62.7/62.7 kB\u001B[0m \u001B[31m5.6 MB/s\u001B[0m eta \u001B[36m0:00:00\u001B[0m\n",
      "\u001B[?25h  Building wheel for validators (setup.py) ... \u001B[?25l\u001B[?25hdone\n"
     ]
    }
   ]
  },
  {
   "cell_type": "code",
   "metadata": {
    "colab": {
     "base_uri": "https://localhost:8080/"
    },
    "outputId": "9c0fe33f-0b1b-4a2d-bb1c-150442b1beef",
    "id": "ZAyqQCQVOoxC",
    "pycharm": {
     "name": "#%%\n"
    }
   },
   "source": [
    "!npm install localtunnel"
   ],
   "execution_count": null,
   "outputs": [
    {
     "output_type": "stream",
     "name": "stdout",
     "text": [
      "\u001B[K\u001B[?25h\u001B[37;40mnpm\u001B[0m \u001B[0m\u001B[30;43mWARN\u001B[0m \u001B[0m\u001B[35msaveError\u001B[0m ENOENT: no such file or directory, open '/content/package.json'\n",
      "\u001B[K\u001B[?25h\u001B[37;40mnpm\u001B[0m \u001B[0m\u001B[34;40mnotice\u001B[0m\u001B[35m\u001B[0m created a lockfile as package-lock.json. You should commit this file.\n",
      "\u001B[0m\u001B[37;40mnpm\u001B[0m \u001B[0m\u001B[30;43mWARN\u001B[0m \u001B[0m\u001B[35menoent\u001B[0m ENOENT: no such file or directory, open '/content/package.json'\n",
      "\u001B[0m\u001B[37;40mnpm\u001B[0m \u001B[0m\u001B[30;43mWARN\u001B[0m\u001B[35m\u001B[0m content No description\n",
      "\u001B[0m\u001B[37;40mnpm\u001B[0m \u001B[0m\u001B[30;43mWARN\u001B[0m\u001B[35m\u001B[0m content No repository field.\n",
      "\u001B[0m\u001B[37;40mnpm\u001B[0m \u001B[0m\u001B[30;43mWARN\u001B[0m\u001B[35m\u001B[0m content No README data\n",
      "\u001B[0m\u001B[37;40mnpm\u001B[0m \u001B[0m\u001B[30;43mWARN\u001B[0m\u001B[35m\u001B[0m content No license field.\n",
      "\u001B[0m\n",
      "+ localtunnel@2.0.2\n",
      "added 22 packages from 22 contributors and audited 22 packages in 1.955s\n",
      "\n",
      "3 packages are looking for funding\n",
      "  run `npm fund` for details\n",
      "\n",
      "found \u001B[92m0\u001B[0m vulnerabilities\n",
      "\n",
      "\u001B[K\u001B[?25h"
     ]
    }
   ]
  },
  {
   "cell_type": "code",
   "source": [
    "!git clone https://github.com/dakilaledesma/tdot_gi_streamlit.git"
   ],
   "metadata": {
    "colab": {
     "base_uri": "https://localhost:8080/"
    },
    "id": "Os4hDgVzUP1b",
    "outputId": "15f0ff45-6750-4394-8686-80205beb355f",
    "pycharm": {
     "name": "#%%\n"
    }
   },
   "execution_count": 8,
   "outputs": [
    {
     "output_type": "stream",
     "name": "stdout",
     "text": [
      "Cloning into 'tdot_gi_streamlit'...\n",
      "remote: Enumerating objects: 11, done.\u001B[K\n",
      "remote: Counting objects: 100% (11/11), done.\u001B[K\n",
      "remote: Compressing objects: 100% (7/7), done.\u001B[K\n",
      "remote: Total 11 (delta 1), reused 10 (delta 0), pack-reused 0\u001B[K\n",
      "Unpacking objects: 100% (11/11), 1.95 KiB | 667.00 KiB/s, done.\n"
     ]
    }
   ]
  },
  {
   "cell_type": "markdown",
   "metadata": {
    "id": "waCfwniZOow8",
    "pycharm": {
     "name": "#%% md\n"
    }
   },
   "source": [
    "# Streamlit Code\n"
   ]
  },
  {
   "cell_type": "code",
   "source": [
    "!streamlit run /content/tdot_gi_streamlit/economic_impact/cisterns.py &>/content/logs.txt & curl ipv4.icanhazip.com"
   ],
   "metadata": {
    "id": "Zv912rRAN0fs",
    "colab": {
     "base_uri": "https://localhost:8080/"
    },
    "outputId": "77434d64-fab9-4006-c6f2-82ffbac73e54",
    "pycharm": {
     "name": "#%%\n"
    }
   },
   "execution_count": 9,
   "outputs": [
    {
     "output_type": "stream",
     "name": "stdout",
     "text": [
      "34.83.152.42\n"
     ]
    }
   ]
  },
  {
   "cell_type": "markdown",
   "source": [
    "## Expose the port 8501\n",
    "Then just click in the `url` showed.\n",
    "\n",
    "A `log.txt`file will be created."
   ],
   "metadata": {
    "id": "h_KW9juhOCuH",
    "pycharm": {
     "name": "#%% md\n"
    }
   }
  },
  {
   "cell_type": "code",
   "source": [
    "!npx localtunnel --port 8501"
   ],
   "metadata": {
    "id": "XTGAizLhOIgC",
    "outputId": "63352082-8429-4a8b-e82c-5b78b3ee0335",
    "colab": {
     "base_uri": "https://localhost:8080/"
    },
    "pycharm": {
     "name": "#%%\n"
    }
   },
   "execution_count": 10,
   "outputs": [
    {
     "output_type": "stream",
     "name": "stdout",
     "text": [
      "\u001B[K\u001B[?25hnpx: installed 22 in 2.823s\n",
      "your url is: https://thick-facts-knock.loca.lt\n",
      "^C\n"
     ]
    }
   ]
  },
  {
   "cell_type": "markdown",
   "metadata": {
    "id": "GVz-H__pOoxG",
    "pycharm": {
     "name": "#%% md\n"
    }
   },
   "source": [
    "[![ko-fi](https://www.ko-fi.com/img/githubbutton_sm.svg)](https://ko-fi.com/Y8Y3VYYE)"
   ]
  }
 ]
}